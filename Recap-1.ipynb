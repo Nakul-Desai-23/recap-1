{
 "cells": [
  {
   "cell_type": "markdown",
   "id": "2f97cd10",
   "metadata": {},
   "source": [
    "#### Conditional Statements and Loops"
   ]
  },
  {
   "cell_type": "code",
   "execution_count": 5,
   "id": "1b306eaa",
   "metadata": {},
   "outputs": [
    {
     "name": "stdout",
     "output_type": "stream",
     "text": [
      "Yes I will be able to buy\n"
     ]
    }
   ],
   "source": [
    "a =500\n",
    "price=450\n",
    "if price<= 500:\n",
    "    print(\"Yes I will be able to buy\")"
   ]
  },
  {
   "cell_type": "code",
   "execution_count": 3,
   "id": "f588daf1",
   "metadata": {},
   "outputs": [
    {
     "data": {
      "text/plain": [
       "True"
      ]
     },
     "execution_count": 3,
     "metadata": {},
     "output_type": "execute_result"
    }
   ],
   "source": [
    "price<=500"
   ]
  },
  {
   "cell_type": "code",
   "execution_count": 6,
   "id": "a2364134",
   "metadata": {},
   "outputs": [
    {
     "data": {
      "text/plain": [
       "False"
      ]
     },
     "execution_count": 6,
     "metadata": {},
     "output_type": "execute_result"
    }
   ],
   "source": [
    "850<=500"
   ]
  },
  {
   "cell_type": "code",
   "execution_count": 9,
   "id": "e18f5bbc",
   "metadata": {},
   "outputs": [
    {
     "name": "stdout",
     "output_type": "stream",
     "text": [
      "I will try to buy shirt\n"
     ]
    }
   ],
   "source": [
    "a =500\n",
    "\n",
    "shirt_price=200\n",
    "pant_price=500\n",
    "coat_price=800\n",
    "\n",
    "if coat_price <=a:\n",
    "    print(\"Yes I will buy coat\") \n",
    "elif pant_price < 500 :\n",
    "    print(\"I will try to buy pant\")\n",
    "elif shirt_price < 500:\n",
    "    print(\"I will try to buy shirt\")\n",
    "else:\n",
    "    print(\"No I wont be able to buy\")"
   ]
  },
  {
   "cell_type": "code",
   "execution_count": 13,
   "id": "c80af2c7",
   "metadata": {},
   "outputs": [
    {
     "name": "stdout",
     "output_type": "stream",
     "text": [
      "Available under my budget\n",
      "I will try to buy shirt\n",
      "Yes I will choose the colour\n"
     ]
    }
   ],
   "source": [
    "a =500\n",
    "\n",
    "shirt_price=200\n",
    "pant_price=500\n",
    "coat_price=800\n",
    "my_size = 'M'\n",
    "size_store = ['L','Xl','XXl','XXXl','M']\n",
    "my_fav_clr = 'white'\n",
    "store_clr = ['white','red','blue','black']\n",
    "\n",
    "\n",
    "if coat_price <=a:\n",
    "    print(\"Yes I will buy coat\") \n",
    "elif pant_price < 500 :\n",
    "    print(\"I will try to buy pant\")\n",
    "elif shirt_price < 500:\n",
    "    print(\"Available under my budget\")\n",
    "    if my_size in size_store:\n",
    "        print(\"I will try to buy shirt\")\n",
    "        if my_fav_clr in store_clr:\n",
    "            print(\"Yes I will choose the colour\")\n",
    "        else:\n",
    "            print(\"My fav clr is not available hence I'll move to another store\")\n",
    "    else:\n",
    "        print(\"My size not available\")\n",
    "else:\n",
    "    print(\"No I wont be able to buy\")"
   ]
  },
  {
   "cell_type": "code",
   "execution_count": 17,
   "id": "2bd553f9",
   "metadata": {},
   "outputs": [],
   "source": [
    "course = ['DSM','DSA','JAVA','BIGDATA','DA']\n",
    "price = 20000\n",
    "mentor = \"Sudhanshu Kumar\"\n",
    "\n",
    "if 'DSM' in course and price == 20000 and \"Sudhanshu kumar\" == mentor:\n",
    "    print (\"Yes I am doing this course\")"
   ]
  },
  {
   "cell_type": "code",
   "execution_count": 22,
   "id": "309e8594",
   "metadata": {},
   "outputs": [
    {
     "name": "stdout",
     "output_type": "stream",
     "text": [
      "Yes I am doing this course\n"
     ]
    }
   ],
   "source": [
    "course = ['DSM','DSA','JAVA','BIGDATA','DA']\n",
    "price = 20000\n",
    "mentor = \"Sudhanshu Kumar\"\n",
    "\n",
    "if 'DSM' in course and price == 20000 and \"Sudhanshu Kumar\" == mentor :\n",
    "    print (\"Yes I am doing this course\")\n"
   ]
  },
  {
   "cell_type": "code",
   "execution_count": 23,
   "id": "1f76375e",
   "metadata": {},
   "outputs": [
    {
     "name": "stdout",
     "output_type": "stream",
     "text": [
      "It's out of my budget\n"
     ]
    }
   ],
   "source": [
    "course_price = 20000\n",
    "\n",
    "\n",
    "if 10000 <= course_price <= 15000:\n",
    "    print(\"I will buy this course\")\n",
    "else:\n",
    "    print(\"It's out of my budget\")"
   ]
  },
  {
   "cell_type": "code",
   "execution_count": 29,
   "id": "26ccc95b",
   "metadata": {},
   "outputs": [
    {
     "name": "stdout",
     "output_type": "stream",
     "text": [
      "Enter you usernamesudh\n",
      "Enter your passwordSudh@12334\n",
      "Enter correct username and password\n"
     ]
    }
   ],
   "source": [
    "user_name = \"sudh\"\n",
    "password = \"sudh@1234\"\n",
    "\n",
    "if user_name == input(\"Enter you username \") and password == input(\"Enter your password \"):\n",
    "    print(\"You have logged in successfully\")\n",
    "else:\n",
    "    print(\"Enter correct username and password\")"
   ]
  },
  {
   "cell_type": "code",
   "execution_count": 33,
   "id": "1d95e599",
   "metadata": {},
   "outputs": [
    {
     "name": "stdout",
     "output_type": "stream",
     "text": [
      "Enter your registered mobile number1234567891\n",
      "Yes you are a registered user\n",
      "Enter otp that we have sent on your registered number1234\n",
      "You have logged in successfully\n"
     ]
    }
   ],
   "source": [
    "mobile_no = 1234567891\n",
    "otp = 1234\n",
    "if mobile_no == int(input(\"Enter your registered mobile number\")):\n",
    "    print(\"Yes you are a registered user\")\n",
    "    if otp ==int(input(\"Enter otp that we have sent on your registered number\")):\n",
    "        print(\"You have logged in successfully\")\n",
    "    else:\n",
    "        print(\"Incorrect otp please enter correct otp\")\n",
    "else:\n",
    "    print(\"you have not entered a valid mobile number\")\n"
   ]
  },
  {
   "cell_type": "code",
   "execution_count": 1,
   "id": "2229c3ae",
   "metadata": {},
   "outputs": [
    {
     "name": "stdout",
     "output_type": "stream",
     "text": [
      "Enter your registered mobile number :43214\n",
      "Yes you are a registered user\n",
      "Enter otp that we have sent on your registered number :1234\n",
      "You have logged in successfully\n"
     ]
    }
   ],
   "source": [
    "mobile_no = {123456,234567,3456789,23432,43214,8373442}\n",
    "otp = 1234\n",
    "if int(input(\"Enter your registered mobile number :\")) in mobile_no:\n",
    "    print(\"Yes you are a registered user\")\n",
    "    if otp ==int(input(\"Enter otp that we have sent on your registered number :\")):\n",
    "        print(\"You have logged in successfully\")\n",
    "    else:\n",
    "        print(\"Incorrect otp please enter correct otp\")\n",
    "else:\n",
    "    print(\"you have not entered a valid mobile number\")"
   ]
  },
  {
   "cell_type": "markdown",
   "id": "798e36b8",
   "metadata": {},
   "source": [
    "### LOOP"
   ]
  },
  {
   "cell_type": "code",
   "execution_count": 5,
   "id": "29794e9a",
   "metadata": {},
   "outputs": [
    {
     "name": "stdout",
     "output_type": "stream",
     "text": [
      "3 4 5 6 7 8 9 10 11 12 11 10 9 8 7 6 5 4 3 12 "
     ]
    }
   ],
   "source": [
    "L= [1,2,3,4,5,6,7,8,9,10,9,8,7,6,5,4,3,2,1,10]\n",
    "for i in L :\n",
    "    i=i+2\n",
    "    print(i,end=\" \")"
   ]
  },
  {
   "cell_type": "code",
   "execution_count": 9,
   "id": "3a76189f",
   "metadata": {},
   "outputs": [
    {
     "name": "stdout",
     "output_type": "stream",
     "text": [
      "123456\n",
      "234567\n",
      "3456789\n",
      "23432\n",
      "Yes user is registered\n",
      "Yes student details are present in database\n",
      "course access to this user is  ['dsa', 'dsm', 'big data']\n",
      "43214\n",
      "8373442\n"
     ]
    }
   ],
   "source": [
    "mobile_no = [123456,234567,3456789,23432,43214,8373442]\n",
    "student_mob_no = 23432\n",
    "student_details = {'mobile_no' : 23432, 'course' : ['dsa','dsm','big data']}\n",
    "\n",
    "\n",
    "for i in mobile_no:\n",
    "    print(i)\n",
    "    if i == student_mob_no:\n",
    "        print(\"Yes user is registered\")\n",
    "        if i == student_details['mobile_no']:\n",
    "                   print(\"Yes student details are present in database\")\n",
    "                   print(\"course access to this user is \",student_details['course'])"
   ]
  },
  {
   "cell_type": "code",
   "execution_count": 12,
   "id": "597f8923",
   "metadata": {},
   "outputs": [
    {
     "name": "stdout",
     "output_type": "stream",
     "text": [
      "sudh\n",
      "kumar\n"
     ]
    }
   ],
   "source": [
    "t = (1,2,3,4,5,6,\"sudh\",\"kumar\")\n",
    "\n",
    "for i in t:\n",
    "    if type(i) == str:\n",
    "        print(i)\n",
    "     \n",
    "     "
   ]
  },
  {
   "cell_type": "code",
   "execution_count": 14,
   "id": "b8b36de1",
   "metadata": {},
   "outputs": [
    {
     "name": "stdout",
     "output_type": "stream",
     "text": [
      "[1, 2, 3, 4, 5, 6]\n",
      "['sudh', 'kumar']\n"
     ]
    }
   ],
   "source": [
    "t = (1,2,3,4,5,6,\"sudh\",\"kumar\")\n",
    "l1=[]\n",
    "l2=[]\n",
    "\n",
    "for i in t:\n",
    "    if type(i)==int:\n",
    "        l1.append(i)\n",
    "    if type(i)==str:\n",
    "        l2.append(i)\n",
    "        \n",
    "print(l1)\n",
    "print(l2)\n",
    "    "
   ]
  },
  {
   "cell_type": "code",
   "execution_count": 15,
   "id": "2ba84fcd",
   "metadata": {},
   "outputs": [
    {
     "name": "stdout",
     "output_type": "stream",
     "text": [
      "3\n",
      "4\n",
      "5\n",
      "6\n",
      "8\n",
      "77\n"
     ]
    }
   ],
   "source": [
    "s ={3,4,5,6,77,8}\n",
    "for i in s:\n",
    "    print(i)"
   ]
  },
  {
   "cell_type": "code",
   "execution_count": 16,
   "id": "8cf593f2",
   "metadata": {},
   "outputs": [],
   "source": [
    "d = {\"name\":\"sudh\",\"class\":[\"big data\",\"data analytics\",\"data science\",\"dsa\",\"architecture\",\"system design\"],\"mob_no\":7000000000,\"email\": \"sudh_kumar@gmail.com\"}"
   ]
  },
  {
   "cell_type": "code",
   "execution_count": 17,
   "id": "eb1cb5e7",
   "metadata": {},
   "outputs": [
    {
     "data": {
      "text/plain": [
       "{'name': 'sudh',\n",
       " 'class': ['big data',\n",
       "  'data analytics',\n",
       "  'data science',\n",
       "  'dsa',\n",
       "  'architecture',\n",
       "  'system design'],\n",
       " 'mob_no': 7000000000,\n",
       " 'email': 'sudh_kumar@gmail.com'}"
      ]
     },
     "execution_count": 17,
     "metadata": {},
     "output_type": "execute_result"
    }
   ],
   "source": [
    "d"
   ]
  },
  {
   "cell_type": "code",
   "execution_count": 18,
   "id": "ebc2fd6f",
   "metadata": {},
   "outputs": [
    {
     "data": {
      "text/plain": [
       "dict_values(['sudh', ['big data', 'data analytics', 'data science', 'dsa', 'architecture', 'system design'], 7000000000, 'sudh_kumar@gmail.com'])"
      ]
     },
     "execution_count": 18,
     "metadata": {},
     "output_type": "execute_result"
    }
   ],
   "source": [
    "d.values()"
   ]
  },
  {
   "cell_type": "code",
   "execution_count": 19,
   "id": "7103f612",
   "metadata": {},
   "outputs": [
    {
     "name": "stdout",
     "output_type": "stream",
     "text": [
      "sudh\n",
      "['big data', 'data analytics', 'data science', 'dsa', 'architecture', 'system design']\n",
      "7000000000\n",
      "sudh_kumar@gmail.com\n"
     ]
    }
   ],
   "source": [
    "for i in d.values():\n",
    "    print(i)"
   ]
  },
  {
   "cell_type": "code",
   "execution_count": 20,
   "id": "8a506586",
   "metadata": {},
   "outputs": [
    {
     "name": "stdout",
     "output_type": "stream",
     "text": [
      "['big data', 'data analytics', 'data science', 'dsa', 'architecture', 'system design']\n"
     ]
    }
   ],
   "source": [
    "for i in d.values():\n",
    "    if type(i)==list:\n",
    "        print(i)"
   ]
  },
  {
   "cell_type": "code",
   "execution_count": 22,
   "id": "c33f4ab7",
   "metadata": {},
   "outputs": [
    {
     "name": "stdout",
     "output_type": "stream",
     "text": [
      "Yes this mentor teaches system design\n"
     ]
    }
   ],
   "source": [
    "for i in d.values():\n",
    "    if type(i)==list:\n",
    "        if 'system design' in i:\n",
    "            print(\"Yes this mentor teaches system design\")"
   ]
  },
  {
   "cell_type": "code",
   "execution_count": 23,
   "id": "68381e33",
   "metadata": {},
   "outputs": [
    {
     "name": "stdout",
     "output_type": "stream",
     "text": [
      "big data\n",
      "data analytics\n",
      "data science\n",
      "dsa\n",
      "architecture\n",
      "system design\n"
     ]
    }
   ],
   "source": [
    "for i in d.values():\n",
    "    if type(i)==list:\n",
    "        for j in i:\n",
    "            print(j)"
   ]
  },
  {
   "cell_type": "code",
   "execution_count": null,
   "id": "7841b719",
   "metadata": {},
   "outputs": [],
   "source": []
  }
 ],
 "metadata": {
  "kernelspec": {
   "display_name": "Python 3 (ipykernel)",
   "language": "python",
   "name": "python3"
  },
  "language_info": {
   "codemirror_mode": {
    "name": "ipython",
    "version": 3
   },
   "file_extension": ".py",
   "mimetype": "text/x-python",
   "name": "python",
   "nbconvert_exporter": "python",
   "pygments_lexer": "ipython3",
   "version": "3.11.3"
  }
 },
 "nbformat": 4,
 "nbformat_minor": 5
}
